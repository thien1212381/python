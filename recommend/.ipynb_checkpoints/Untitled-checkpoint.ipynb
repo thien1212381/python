{
 "cells": [
  {
   "cell_type": "code",
   "execution_count": 21,
   "metadata": {
    "collapsed": false
   },
   "outputs": [],
   "source": [
    "from math import sqrt\n",
    "def sim_distance(prefs,person1,person2):\n",
    "    # Get the list of shared_items\n",
    "    si={}\n",
    "    for item in prefs[person1]:\n",
    "        if item in prefs[person2]:\n",
    "            si[item]=1\n",
    "    # if they have no ratings in common, return 0\n",
    "    if len(si)==0: return 0\n",
    "    # Add up the squares of all the differences\n",
    "    sum_of_squares=sum([pow(prefs[person1][item]-prefs[person2][item],2)\n",
    "        for item in prefs[person1] if item in prefs[person2]])\n",
    "    return 1/(1+sum_of_squares)\n",
    "def sim_pearson(prefs,p1,p2):\n",
    "# Get the list of mutually rated items\n",
    "    si={}\n",
    "    for item in prefs[p1]:\n",
    "        if item in prefs[p2]: si[item]=1\n",
    "    # Find the number of elements\n",
    "    n=len(si)\n",
    "    # if they are no ratings in common, return 0\n",
    "    if n==0: return 0\n",
    "    # Add up all the preferences\n",
    "    sum1=sum([prefs[p1][it] for it in si])\n",
    "    sum2=sum([prefs[p2][it] for it in si])\n",
    "    # Sum up the squares\n",
    "    sum1Sq=sum([pow(prefs[p1][it],2) for it in si])\n",
    "    sum2Sq=sum([pow(prefs[p2][it],2) for it in si])\n",
    "    # Sum up the products\n",
    "    pSum=sum([prefs[p1][it]*prefs[p2][it] for it in si])\n",
    "    # Calculate Pearson score\n",
    "    num=pSum-(sum1*sum2/n)\n",
    "    den=sqrt((sum1Sq-pow(sum1,2)/n)*(sum2Sq-pow(sum2,2)/n))\n",
    "    if den==0: return 0\n",
    "    r=num/den\n",
    "    return r\n",
    "def topMatches(prefs,person,n=5,similarity=sim_pearson):\n",
    "    scores=[(similarity(prefs,person,other),other)\n",
    "    for other in prefs if other!=person]\n",
    "    # Sort the list so the highest scores appear at the top\n",
    "    scores.sort()\n",
    "    scores.reverse()\n",
    "    return scores[0:n]\n",
    "def getRecommendations(prefs,person,similarity=sim_pearson):\n",
    "    totals={}\n",
    "    simSums={}\n",
    "    for other in prefs:\n",
    "    # don't compare me to myself\n",
    "        if other==person: continue\n",
    "        sim=similarity(prefs,person,other)\n",
    "    # ignore scores of zero or lower\n",
    "        if sim<=0: continue\n",
    "        for item in prefs[other]:\n",
    "            # only score movies I haven't seen yet\n",
    "            if item not in prefs[person] or prefs[person][item]==0:\n",
    "                # Similarity * Score\n",
    "                totals.setdefault(item,0)\n",
    "                totals[item]+=prefs[other][item]*sim\n",
    "                # Sum of similarities\n",
    "                simSums.setdefault(item,0)\n",
    "                simSums[item]+=sim\n",
    "    # Create the normalized list\n",
    "    rankings=[(total/simSums[item],item) for item,total in totals.items( )]\n",
    "    # Return the sorted list\n",
    "    rankings.sort( )\n",
    "    rankings.reverse( )\n",
    "    return rankings"
   ]
  },
  {
   "cell_type": "code",
   "execution_count": 23,
   "metadata": {
    "collapsed": false
   },
   "outputs": [
    {
     "name": "stdout",
     "output_type": "stream",
     "text": [
      "{'Snakes on a Plane': 4.5, 'Superman Returns': 4.0, 'You, Me and Dupree': 1.0}\n",
      "[(0.9912407071619299, 'Lisa Rose'), (0.9244734516419049, 'Mick LaSalle'), (0.8934051474415647, 'Claudia Puig'), (0.66284898035987, 'Jack Matthews'), (0.38124642583151164, 'Gene Seymour')]\n",
      "[(3.5002478401415877, 'The Night Listener'), (2.7561242939959363, 'Lady in the Water'), (2.461988486074374, 'Just My Luck')]\n"
     ]
    }
   ],
   "source": [
    "from recommendations import critics\n",
    "print critics['Toby']\n",
    "print topMatches(critics,'Toby')\n",
    "print getRecommendations(critics,'Toby',similarity=sim_distance)"
   ]
  },
  {
   "cell_type": "code",
   "execution_count": 23,
   "metadata": {
    "collapsed": false
   },
   "outputs": [
    {
     "name": "stdout",
     "output_type": "stream",
     "text": [
      "0.396059017191\n"
     ]
    }
   ],
   "source": []
  },
  {
   "cell_type": "code",
   "execution_count": null,
   "metadata": {
    "collapsed": true
   },
   "outputs": [],
   "source": []
  }
 ],
 "metadata": {
  "kernelspec": {
   "display_name": "Python [Root]",
   "language": "python",
   "name": "Python [Root]"
  },
  "language_info": {
   "codemirror_mode": {
    "name": "ipython",
    "version": 2
   },
   "file_extension": ".py",
   "mimetype": "text/x-python",
   "name": "python",
   "nbconvert_exporter": "python",
   "pygments_lexer": "ipython2",
   "version": "2.7.12"
  }
 },
 "nbformat": 4,
 "nbformat_minor": 0
}
